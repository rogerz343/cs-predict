{
 "cells": [
  {
   "cell_type": "code",
   "execution_count": 5,
   "metadata": {},
   "outputs": [],
   "source": [
    "import sklearn\n",
    "import numpy as np\n",
    "import os"
   ]
  },
  {
   "cell_type": "code",
   "execution_count": 16,
   "metadata": {},
   "outputs": [],
   "source": [
    "def extract_data(xy_filepath):\n",
    "    xy = np.genfromtxt(xy_filepath, delimiter=',')\n",
    "#     return xy[:, :-1].astype(np.float), xy[:, -1].astype(int)\n",
    "#     return xy[:, [1, 3, 5, 7]].astype(np.float), xy[:, -1].astype(int)      # roundsWon, map_roundsWon, avg adr, max adr\n",
    "    return xy[:, [1]].astype(np.float), xy[:, -1].astype(int)"
   ]
  },
  {
   "cell_type": "code",
   "execution_count": 17,
   "metadata": {},
   "outputs": [],
   "source": [
    "# load data into global variable space\n",
    "# split between test and train sets\n",
    "FRAC_TRAIN = 0.8\n",
    "X, y = extract_data('./Xy.txt')\n",
    "num_train = int(FRAC_TRAIN * len(X))\n",
    "indices = np.random.permutation(len(X))\n",
    "train_indices, test_indices = indices[:num_train], indices[num_train:]\n",
    "X_train = X[train_indices, :]\n",
    "y_train = y[train_indices]\n",
    "X_test = X[test_indices, :]\n",
    "y_test = y[test_indices]"
   ]
  },
  {
   "cell_type": "code",
   "execution_count": 18,
   "metadata": {},
   "outputs": [
    {
     "name": "stderr",
     "output_type": "stream",
     "text": [
      "c:\\users\\roger\\appdata\\local\\programs\\python\\python37\\lib\\site-packages\\sklearn\\svm\\base.py:922: ConvergenceWarning: Liblinear failed to converge, increase the number of iterations.\n",
      "  \"the number of iterations.\", ConvergenceWarning)\n"
     ]
    }
   ],
   "source": [
    "from sklearn.svm import LinearSVC\n",
    "from sklearn.feature_extraction import DictVectorizer\n",
    "\n",
    "clf = LinearSVC(loss='hinge')\n",
    "clf.fit(X_train, y_train)\n",
    "\n",
    "pred_train = clf.predict(X_train)\n",
    "pred_test = clf.predict(X_test)\n",
    "\n",
    "train_acc = sum([1 if y == yhat else 0 for y, yhat in zip(y_train, pred_train)]) / len(y_train)\n",
    "test_acc = sum([1 if y == yhat else 0 for y, yhat in zip(y_test, pred_test)]) / len(y_test)"
   ]
  },
  {
   "cell_type": "code",
   "execution_count": 19,
   "metadata": {},
   "outputs": [
    {
     "name": "stdout",
     "output_type": "stream",
     "text": [
      "train accuracy 0.5768524736959928\n",
      "test accuracy 0.5854226361031518\n"
     ]
    }
   ],
   "source": [
    "print('train accuracy', train_acc)\n",
    "print('test accuracy', test_acc)"
   ]
  },
  {
   "cell_type": "code",
   "execution_count": null,
   "metadata": {},
   "outputs": [],
   "source": []
  },
  {
   "cell_type": "code",
   "execution_count": null,
   "metadata": {},
   "outputs": [],
   "source": []
  }
 ],
 "metadata": {
  "kernelspec": {
   "display_name": "Python 3",
   "language": "python",
   "name": "python3"
  },
  "language_info": {
   "codemirror_mode": {
    "name": "ipython",
    "version": 3
   },
   "file_extension": ".py",
   "mimetype": "text/x-python",
   "name": "python",
   "nbconvert_exporter": "python",
   "pygments_lexer": "ipython3",
   "version": "3.7.1"
  }
 },
 "nbformat": 4,
 "nbformat_minor": 2
}

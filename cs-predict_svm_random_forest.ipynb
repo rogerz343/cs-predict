{
 "cells": [
  {
   "cell_type": "code",
   "execution_count": 1,
   "metadata": {},
   "outputs": [],
   "source": [
    "import sklearn\n",
    "import numpy as np\n",
    "import os"
   ]
  },
  {
   "cell_type": "code",
   "execution_count": 71,
   "metadata": {},
   "outputs": [],
   "source": [
    "def extract_data(xy_filepath):\n",
    "    xy = np.genfromtxt(xy_filepath, delimiter=',')\n",
    "    return xy[:, :-1].astype(np.float), xy[:, -1].astype(int)\n",
    "#     return xy[:, [1, 3, 5, 7]].astype(np.float), xy[:, -1].astype(int)      # roundsWon, map_roundsWon, avg adr, max adr\n",
    "#     return xy[:, [2]].astype(np.float), xy[:, -1].astype(int)"
   ]
  },
  {
   "cell_type": "code",
   "execution_count": 72,
   "metadata": {},
   "outputs": [],
   "source": [
    "# load data into global variable space\n",
    "# split between test and train sets\n",
    "FRAC_TRAIN = 0.8\n",
    "X, y = extract_data('./Xy.txt')\n",
    "num_train = int(FRAC_TRAIN * len(X))\n",
    "indices = np.random.permutation(len(X))\n",
    "train_indices, test_indices = indices[:num_train], indices[num_train:]\n",
    "X_train = X[train_indices, :]\n",
    "y_train = y[train_indices]\n",
    "X_test = X[test_indices, :]\n",
    "y_test = y[test_indices]"
   ]
  },
  {
   "cell_type": "code",
   "execution_count": 82,
   "metadata": {},
   "outputs": [
    {
     "data": {
      "text/plain": [
       "Text(0.5, 0, 'Feature (v): difference in [k - d]')"
      ]
     },
     "execution_count": 82,
     "metadata": {},
     "output_type": "execute_result"
    },
    {
     "data": {
      "image/png": "[encoded data removed]",
      "text/plain": [
       "<Figure size 432x288 with 1 Axes>"
      ]
     },
     "metadata": {
      "needs_background": "light"
     },
     "output_type": "display_data"
    }
   ],
   "source": [
    "import matplotlib.pyplot as plt\n",
    "\n",
    "rand_indices = indices[:400]\n",
    "x_4 = X[rand_indices, 4]   # k - d difference\n",
    "y_4 = y[rand_indices]\n",
    "plt.scatter(x_4, y_4)\n",
    "plt.title('Random small sample of instances')\n",
    "plt.ylabel('Class (1 = win, 0 = loss)')\n",
    "plt.xlabel('Feature (v): difference in [k - d]')"
   ]
  },
  {
   "cell_type": "code",
   "execution_count": 63,
   "metadata": {},
   "outputs": [
    {
     "name": "stderr",
     "output_type": "stream",
     "text": [
      "c:\\users\\robin zhang\\appdata\\local\\programs\\python\\python37\\lib\\site-packages\\sklearn\\svm\\base.py:922: ConvergenceWarning: Liblinear failed to converge, increase the number of iterations.\n",
      "  \"the number of iterations.\", ConvergenceWarning)\n"
     ]
    }
   ],
   "source": [
    "from sklearn.svm import LinearSVC\n",
    "from sklearn.feature_extraction import DictVectorizer\n",
    "\n",
    "clf = LinearSVC(loss='hinge')\n",
    "clf.fit(X_train, y_train)\n",
    "\n",
    "pred_train = clf.predict(X_train)\n",
    "pred_test = clf.predict(X_test)\n",
    "\n",
    "train_acc = sum([1 if y == yhat else 0 for y, yhat in zip(y_train, pred_train)]) / len(y_train)\n",
    "test_acc = sum([1 if y == yhat else 0 for y, yhat in zip(y_test, pred_test)]) / len(y_test)"
   ]
  },
  {
   "cell_type": "code",
   "execution_count": 64,
   "metadata": {},
   "outputs": [
    {
     "name": "stdout",
     "output_type": "stream",
     "text": [
      "train accuracy 0.5499888068054622\n",
      "test accuracy 0.5603510028653295\n"
     ]
    }
   ],
   "source": [
    "print('train accuracy', train_acc)\n",
    "print('test accuracy', test_acc)"
   ]
  },
  {
   "cell_type": "code",
   "execution_count": 22,
   "metadata": {},
   "outputs": [
    {
     "name": "stdout",
     "output_type": "stream",
     "text": [
      "train accuracy 0.6296619655249608\n",
      "test accuracy 0.6003760744985673\n"
     ]
    }
   ],
   "source": [
    "from sklearn.ensemble import RandomForestClassifier\n",
    "\n",
    "clf = RandomForestClassifier(n_estimators=100, max_depth=8)\n",
    "clf = clf.fit(X_train, y_train)\n",
    "\n",
    "pred_train = clf.predict(X_train)\n",
    "pred_test = clf.predict(X_test)\n",
    "\n",
    "train_acc = sum([1 if y == yhat else 0 for y, yhat in zip(y_train, pred_train)]) / len(y_train)\n",
    "test_acc = sum([1 if y == yhat else 0 for y, yhat in zip(y_test, pred_test)]) / len(y_test)\n",
    "\n",
    "print('train accuracy', train_acc)\n",
    "print('test accuracy', test_acc)"
   ]
  },
  {
   "cell_type": "code",
   "execution_count": 48,
   "metadata": {},
   "outputs": [
    {
     "name": "stdout",
     "output_type": "stream",
     "text": [
      "Feature ranking:\n",
      "1. feature 4 (0.246492)\n",
      "2. feature 5 (0.165104)\n",
      "3. feature 6 (0.158797)\n",
      "4. feature 1 (0.122295)\n",
      "5. feature 0 (0.109981)\n",
      "6. feature 7 (0.082623)\n",
      "7. feature 3 (0.059323)\n",
      "8. feature 2 (0.055386)\n"
     ]
    },
    {
     "data": {
      "image/png": "[encoded data removed]",
      "text/plain": [
       "<Figure size 432x288 with 1 Axes>"
      ]
     },
     "metadata": {
      "needs_background": "light"
     },
     "output_type": "display_data"
    }
   ],
   "source": [
    "import matplotlib.pyplot as plt\n",
    "\n",
    "romans = ['(i)', '(ii)', '(iii)', '(iv)', '(v)', '(vi)', '(vii)', '(viii)']\n",
    "\n",
    "importances = clf.feature_importances_\n",
    "std = np.std([tree.feature_importances_ for tree in clf.estimators_],\n",
    "             axis=0)\n",
    "indices = np.argsort(importances)[::-1]\n",
    "\n",
    "print(\"Feature ranking:\")\n",
    "\n",
    "for f in range(X.shape[1]):\n",
    "    print(\"%d. feature %d (%f)\" % (f + 1, indices[f], importances[indices[f]]))\n",
    "\n",
    "plt.figure()\n",
    "plt.title(\"Feature importances\")\n",
    "plt.bar(range(X.shape[1]), importances[indices],\n",
    "        color=\"g\",\n",
    "        align=\"center\")\n",
    "for i, v in enumerate(importances[indices]):\n",
    "    plt.text(i - 0.35, v + 0.01, '{0:.3f}'.format(v))\n",
    "indices = [romans[i] for i in indices]\n",
    "plt.xticks(range(X.shape[1]), indices)\n",
    "plt.xlim([-1, X.shape[1]])\n",
    "plt.ylim([0, .3])\n",
    "plt.show()"
   ]
  },
  {
   "cell_type": "code",
   "execution_count": null,
   "metadata": {},
   "outputs": [],
   "source": []
  }
 ],
 "metadata": {
  "kernelspec": {
   "display_name": "Python 3",
   "language": "python",
   "name": "python3"
  },
  "language_info": {
   "codemirror_mode": {
    "name": "ipython",
    "version": 3
   },
   "file_extension": ".py",
   "mimetype": "text/x-python",
   "name": "python",
   "nbconvert_exporter": "python",
   "pygments_lexer": "ipython3",
   "version": "3.7.1"
  }
 },
 "nbformat": 4,
 "nbformat_minor": 2
}
